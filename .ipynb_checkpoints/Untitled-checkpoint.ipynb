{
 "cells": [
  {
   "cell_type": "markdown",
   "metadata": {},
   "source": [
    "## Zad 1\n",
    "\n",
    "Napisz funkcję (lub funkcje), które zwrócą maksymalną spośród 3 liczb.\n",
    "W rozwiązaniu skorzystaj tylko z możliwośći definiowania funkcji i używania w nich operatorów porównania\n"
   ]
  },
  {
   "cell_type": "code",
   "execution_count": 4,
   "metadata": {},
   "outputs": [],
   "source": [
    "def max_z_dwoch(a, b):\n",
    "    if a > b:\n",
    "        return a\n",
    "    return b\n",
    "\n",
    "def max_z_trzech(x, y ,z):\n",
    "    return max_z_dwoch(x, max_z_dwoch(y, z))"
   ]
  },
  {
   "cell_type": "code",
   "execution_count": 5,
   "metadata": {},
   "outputs": [],
   "source": [
    "assert 0 == max_z_trzech(0, 0, 0)\n",
    "assert 3 == max_z_trzech(1, 2, 3)\n",
    "assert 10 == max_z_trzech(10, 2, -3)"
   ]
  },
  {
   "cell_type": "markdown",
   "metadata": {},
   "source": [
    "## Zad 2\n",
    "\n",
    "Napisz funkcję, która:\n",
    "1. Jeśli jej argument będzie listą, tuplą bądź zbiroem, zwróci sumę jej elementów\n",
    "2. Jeśli jej argument będzie słownikiem, zwróci sumę wartości\n",
    "\n",
    "W obu przypadkach ignoruj napisy - o ile napisy nie reprezentują liczb\n"
   ]
  },
  {
   "cell_type": "code",
   "execution_count": 12,
   "metadata": {},
   "outputs": [],
   "source": [
    "def sumator(arg):\n",
    "    total = 0\n",
    "    if isinstance(arg, dict):\n",
    "        arg = arg.values()\n",
    "    for x in arg:\n",
    "        try: \n",
    "            x = int(x)\n",
    "            total += x\n",
    "        except ValueError:\n",
    "            pass\n",
    "    return total"
   ]
  },
  {
   "cell_type": "code",
   "execution_count": 13,
   "metadata": {},
   "outputs": [],
   "source": [
    "assert sumator([1, 2, 3]) == 6\n",
    "assert sumator([10, 20, 30]) == 60\n",
    "assert sumator([1, 2 , 'a', 3]) == 6\n",
    "assert sumator([1, 2 , '4', 3]) == 10\n",
    "assert sumator({'a': 10, 1: 20, 'c': 30, 'd': '40'}) == 100"
   ]
  },
  {
   "cell_type": "markdown",
   "metadata": {},
   "source": [
    "## Zad 3\n",
    "\n",
    "Napisz funkcję, która sprawdzi czy podany napis jest palindromem\n"
   ]
  },
  {
   "cell_type": "code",
   "execution_count": 30,
   "metadata": {},
   "outputs": [],
   "source": [
    "def czy_palindrom(tekst):\n",
    "    tekst = \"\".join(tekst.lower().split())\n",
    "\n",
    "    lewy  =0\n",
    "    prawy = len(tekst) - 1\n",
    "    \n",
    "    while prawy >= lewy:\n",
    "        if not tekst[lewy] == tekst[prawy]:\n",
    "            return False\n",
    "        lewy += 1\n",
    "        prawy -= 1\n",
    "        \n",
    "    return True\n",
    "\n",
    "        \n",
    "        "
   ]
  },
  {
   "cell_type": "code",
   "execution_count": 32,
   "metadata": {},
   "outputs": [
    {
     "ename": "SyntaxError",
     "evalue": "invalid syntax (<ipython-input-32-002a6d0c5d10>, line 3)",
     "output_type": "error",
     "traceback": [
      "\u001b[0;36m  File \u001b[0;32m\"<ipython-input-32-002a6d0c5d10>\"\u001b[0;36m, line \u001b[0;32m3\u001b[0m\n\u001b[0;31m    return tekst = tekst[::-1]\u001b[0m\n\u001b[0m                 ^\u001b[0m\n\u001b[0;31mSyntaxError\u001b[0m\u001b[0;31m:\u001b[0m invalid syntax\n"
     ]
    }
   ],
   "source": [
    "def czy_palindrom(tekst):\n",
    "    tekst = \"\".join(tekst.lower().split())\n",
    "    return tekst = tekst[::-1]"
   ]
  },
  {
   "cell_type": "code",
   "execution_count": 33,
   "metadata": {},
   "outputs": [],
   "source": [
    "assert czy_palindrom(\"Kobyła ma mały bok\") == True\n",
    "assert czy_palindrom(\"Zakopane na pokaz\") == True\n",
    "assert czy_palindrom(\"Ala ma kota\") == False"
   ]
  },
  {
   "cell_type": "markdown",
   "metadata": {},
   "source": [
    "\n",
    "## zad 4\n",
    "\n",
    "Napisz funkcję, które wypisze n pierwszych wierszy trójkąta Pascala\n",
    "\n",
    "print_pascal(4)\n",
    "\n",
    "          1\n",
    "        1   1\n",
    "      1   2   1\n",
    "    1   3   3   1\n",
    "\n",
    "\n",
    "1\n",
    "1 1\n",
    "1 2 1\n",
    "1 3 3 1\n"
   ]
  },
  {
   "cell_type": "code",
   "execution_count": null,
   "metadata": {},
   "outputs": [],
   "source": [
    "def trojkat_pascala(n):\n",
    "    "
   ]
  },
  {
   "cell_type": "code",
   "execution_count": null,
   "metadata": {},
   "outputs": [],
   "source": []
  },
  {
   "cell_type": "code",
   "execution_count": null,
   "metadata": {},
   "outputs": [],
   "source": []
  }
 ],
 "metadata": {
  "kernelspec": {
   "display_name": "Python 3",
   "language": "python",
   "name": "python3"
  },
  "language_info": {
   "codemirror_mode": {
    "name": "ipython",
    "version": 3
   },
   "file_extension": ".py",
   "mimetype": "text/x-python",
   "name": "python",
   "nbconvert_exporter": "python",
   "pygments_lexer": "ipython3",
   "version": "3.7.1"
  }
 },
 "nbformat": 4,
 "nbformat_minor": 2
}
